{
 "cells": [
  {
   "cell_type": "code",
   "execution_count": 1,
   "metadata": {},
   "outputs": [],
   "source": [
    "import os,cv2,pytesseract,re\n",
    "from PIL import Image\n",
    "pytesseract.pytesseract.tesseract_cmd=r'C:\\Program Files\\Tesseract-OCR\\tesseract.exe'"
   ]
  },
  {
   "cell_type": "code",
   "execution_count": 2,
   "metadata": {},
   "outputs": [],
   "source": [
    "def get_text(imgfile):\n",
    "    grayimg = cv2.imread(imgfile)\n",
    "    grayimg=cv2.cvtColor(grayimg, cv2.COLOR_BGR2GRAY)\n",
    "    kernel = np.ones((1, 1), np.uint8)\n",
    "    img = cv2.dilate(grayimg, kernel, iterations=1)\n",
    "    img = cv2.erode(img, kernel, iterations=1)\n",
    "    th , img = cv2.threshold(img,127,225,cv2.THRESH_TRUNC)\n",
    "    tempfile = \"{}.png\".format(os.getpid())\n",
    "    cv2.imwrite(tempfile, img)\n",
    "    text = pytesseract.image_to_string(Image.open(tempfile))\n",
    "    text = re.sub(r'^[a-zA-z1-9]','',text)\n",
    "    os.remove(tempfile)\n",
    "    return text\n",
    "\n",
    "def getEno(text):\n",
    "    start=end=text.find('Enrollment No.: ')+len('Enrollment No.: ')\n",
    "    while (text[end]!='\\n'):\n",
    "        end+=1\n",
    "    return text[start:end]   \n",
    "\n",
    "def getPhone(text):\n",
    "    if text.find('Mobile No: ')!=-1:\n",
    "        start=text.find('Mobile No: ')+ len('Mobile No: ')\n",
    "        return text[start:start+10]\n",
    "    else:\n",
    "        return re.findall(r'(?<!\\d)\\d{10}(?!\\d)',text)[0]\n",
    "\n",
    "def getAno(text):\n",
    "    start=end=text.find('Your Aadhaar No. :\\n\\n')+len('Your Aadhaar No. :\\n\\n')\n",
    "    while (text[end]!='\\n'):\n",
    "        end+=1\n",
    "    return text[start:end]\n",
    "\n",
    "def getDOB(text):\n",
    "    start=end=text.find('DOB : ')+len('DOB : ')\n",
    "    while (text[end]!='\\n'):\n",
    "        end+=1\n",
    "    return text[start:end]\n",
    "\n",
    "def getGender(text):\n",
    "    if text.find('Male\\n\\n')!=-1:\n",
    "        return 'Male'\n",
    "    else:\n",
    "        return 'Female'"
   ]
  },
  {
   "cell_type": "code",
   "execution_count": 3,
   "metadata": {},
   "outputs": [
    {
     "ename": "NameError",
     "evalue": "name 'ocr' is not defined",
     "output_type": "error",
     "traceback": [
      "\u001b[1;31m---------------------------------------------------------------------------\u001b[0m",
      "\u001b[1;31mNameError\u001b[0m                                 Traceback (most recent call last)",
      "\u001b[1;32m<ipython-input-3-5aef9f24ba0e>\u001b[0m in \u001b[0;36m<module>\u001b[1;34m\u001b[0m\n\u001b[0;32m      1\u001b[0m \u001b[0mimgfile\u001b[0m\u001b[1;33m=\u001b[0m\u001b[1;34m'aadhar.jpg'\u001b[0m\u001b[1;33m\u001b[0m\u001b[1;33m\u001b[0m\u001b[0m\n\u001b[1;32m----> 2\u001b[1;33m \u001b[0mtext\u001b[0m\u001b[1;33m=\u001b[0m\u001b[0mocr\u001b[0m\u001b[1;33m(\u001b[0m\u001b[0mimgfile\u001b[0m\u001b[1;33m)\u001b[0m\u001b[1;33m\u001b[0m\u001b[1;33m\u001b[0m\u001b[0m\n\u001b[0m\u001b[0;32m      3\u001b[0m aadhar_details={'Enrollment No':getEno(text),\n\u001b[0;32m      4\u001b[0m \u001b[1;34m'Phone'\u001b[0m\u001b[1;33m:\u001b[0m\u001b[0mgetPhone\u001b[0m\u001b[1;33m(\u001b[0m\u001b[0mtext\u001b[0m\u001b[1;33m)\u001b[0m\u001b[1;33m,\u001b[0m\u001b[1;33m\u001b[0m\u001b[1;33m\u001b[0m\u001b[0m\n\u001b[0;32m      5\u001b[0m \u001b[1;34m'Aadhar No'\u001b[0m\u001b[1;33m:\u001b[0m\u001b[0mgetAno\u001b[0m\u001b[1;33m(\u001b[0m\u001b[0mtext\u001b[0m\u001b[1;33m)\u001b[0m\u001b[1;33m,\u001b[0m\u001b[1;33m\u001b[0m\u001b[1;33m\u001b[0m\u001b[0m\n",
      "\u001b[1;31mNameError\u001b[0m: name 'ocr' is not defined"
     ]
    }
   ],
   "source": [
    "imgfile='aadhar.jpg'\n",
    "text=ocr(imgfile)\n",
    "aadhar_details={'Enrollment No':getEno(text),\n",
    "'Phone':getPhone(text),\n",
    "'Aadhar No':getAno(text),\n",
    "'DOB':getDOB(text),\n",
    "'Gender':getGender(text)}\n",
    "\n",
    "aadhar_details"
   ]
  },
  {
   "cell_type": "code",
   "execution_count": null,
   "metadata": {},
   "outputs": [],
   "source": []
  }
 ],
 "metadata": {
  "kernelspec": {
   "display_name": "Python 3",
   "language": "python",
   "name": "python3"
  },
  "language_info": {
   "codemirror_mode": {
    "name": "ipython",
    "version": 3
   },
   "file_extension": ".py",
   "mimetype": "text/x-python",
   "name": "python",
   "nbconvert_exporter": "python",
   "pygments_lexer": "ipython3",
   "version": "3.8.3"
  }
 },
 "nbformat": 4,
 "nbformat_minor": 5
}
