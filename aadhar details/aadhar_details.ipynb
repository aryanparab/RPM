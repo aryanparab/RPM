{
 "cells": [
  {
   "cell_type": "code",
   "execution_count": 4,
   "id": "temporal-sauce",
   "metadata": {},
   "outputs": [],
   "source": [
    "import os,cv2,pytesseract,re\n",
    "from PIL import Image\n",
    "pytesseract.pytesseract.tesseract_cmd=r'C:\\Program Files\\Tesseract-OCR\\tesseract.exe'"
   ]
  },
  {
   "cell_type": "code",
   "execution_count": 8,
   "id": "handmade-split",
   "metadata": {},
   "outputs": [],
   "source": [
    " def get_text(imgfile):\n",
    "    img = cv2.imread(imgfile)\n",
    "    grayimg=cv2.cvtColor(img, cv2.COLOR_BGR2GRAY)\n",
    "    tempfile = \"{}.png\".format(os.getpid())\n",
    "    cv2.imwrite(tempfile, grayimg)\n",
    "    text = pytesseract.image_to_string(Image.open(tempfile))\n",
    "    os.remove(tempfile)\n",
    "    return text\n",
    "\n",
    "def getEno(text):\n",
    "    x=re.findall('[0-9]{4}\\/[0-9]{5}\\/[0-9]{5}',text)\n",
    "    if len(x)>0:\n",
    "        return x[0]\n",
    "\n",
    "def getPhone(text):\n",
    "    x=re.findall(r'[0-9]{10}',text)\n",
    "    return x[len(x)-1]\n",
    "\n",
    "def getAno(text):\n",
    "    return re.findall('[0-9]{4}[ ][0-9]{4}[ ][0-9]{4}',text)[0]\n",
    "\n",
    "def getDOB(text):\n",
    "    x=re.findall('[0-9]{2}\\/[0-9]{2}\\/[0-9]{4}',text)\n",
    "    return x[len(x)-1]\n",
    "\n",
    "def getGender(text):\n",
    "    if text.find('Male\\n')==-1 and text.find('MALE\\n')==-1 :\n",
    "        return 'Female'\n",
    "    else:\n",
    "        return 'Male'"
   ]
  },
  {
   "cell_type": "code",
   "execution_count": 9,
   "id": "postal-finder",
   "metadata": {},
   "outputs": [
    {
     "data": {
      "text/plain": [
       "{'Enrollment No': None,\n",
       " 'Phone': '9833761116',\n",
       " 'Aadhar No': '2065 5271 2883',\n",
       " 'DOB': '14/07/2001',\n",
       " 'Gender': 'Male'}"
      ]
     },
     "execution_count": 9,
     "metadata": {},
     "output_type": "execute_result"
    }
   ],
   "source": [
    "imgfile='aadhar1.jpg'\n",
    "text=get_text(imgfile)\n",
    "aadhar_details={'Enrollment No':getEno(text),\n",
    "'Phone':getPhone(text),\n",
    "'Aadhar No':getAno(text),\n",
    "'DOB':getDOB(text),\n",
    "'Gender':getGender(text)}\n",
    "\n",
    "aadhar_details"
   ]
  }
 ],
 "metadata": {
  "kernelspec": {
   "display_name": "Python 3",
   "language": "python",
   "name": "python3"
  },
  "language_info": {
   "codemirror_mode": {
    "name": "ipython",
    "version": 3
   },
   "file_extension": ".py",
   "mimetype": "text/x-python",
   "name": "python",
   "nbconvert_exporter": "python",
   "pygments_lexer": "ipython3",
   "version": "3.9.2"
  }
 },
 "nbformat": 4,
 "nbformat_minor": 5
}
