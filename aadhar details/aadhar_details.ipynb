{
 "cells": [
  {
   "cell_type": "code",
   "execution_count": 19,
   "id": "temporal-sauce",
   "metadata": {},
   "outputs": [],
   "source": [
    "import os,cv2,pytesseract,re\n",
    "from PIL import Image\n",
    "pytesseract.pytesseract.tesseract_cmd=r'C:\\Program Files\\Tesseract-OCR\\tesseract.exe'"
   ]
  },
  {
   "cell_type": "code",
   "execution_count": 32,
   "id": "handmade-split",
   "metadata": {},
   "outputs": [],
   "source": [
    " def get_text(imgfile):\n",
    "    grayimg = cv2.imread(imgfile)\n",
    "    grayimg=cv2.cvtColor(grayimg, cv2.COLOR_BGR2GRAY)\n",
    "    kernel = np.ones((1, 1), np.uint8)\n",
    "    img = cv2.dilate(grayimg, kernel, iterations=1)\n",
    "    img = cv2.erode(img, kernel, iterations=1)\n",
    "    th , img = cv2.threshold(img,127,225,cv2.THRESH_TRUNC)\n",
    "    tempfile = \"{}.png\".format(os.getpid())\n",
    "    cv2.imwrite(tempfile, img)\n",
    "    text = pytesseract.image_to_string(Image.open(tempfile))\n",
    "    text = re.sub(r'^[a-zA-z1-9]','',text)\n",
    "    os.remove(tempfile)\n",
    "    return text\n",
    "\n",
    "def getEno(text):\n",
    "    start=end=text.find('Enrollment No.: ')+len('Enrollment No.: ')\n",
    "    while (text[end]!='\\n'):\n",
    "        end+=1\n",
    "    return text[start:end]   \n",
    "\n",
    "def getPhone(text):\n",
    "    if text.find('Mobile No: ')!=-1:\n",
    "        start=text.find('Mobile No: ')+ len('Mobile No: ')\n",
    "        return text[start:start+10]\n",
    "    else:\n",
    "        return re.findall(r'(?<!\\d)\\d{10}(?!\\d)',text)[0]\n",
    "\n",
    "def getAno(text):\n",
    "    start=end=text.find('Your Aadhaar No. :\\n\\n')+len('Your Aadhaar No. :\\n\\n')\n",
    "    while (text[end]!='\\n'):\n",
    "        end+=1\n",
    "    return text[start:end]\n",
    "\n",
    "def getDOB(text):\n",
    "    start=end=text.find('DOB : ')+len('DOB : ')\n",
    "    while (text[end]!='\\n'):\n",
    "        end+=1\n",
    "    return text[start:end]\n",
    "\n",
    "def getGender(text):\n",
    "    if text.find('Male\\n\\n')!=-1:\n",
    "        return 'Male'\n",
    "    else:\n",
    "        return 'Female'"
   ]
  },
  {
   "cell_type": "code",
   "execution_count": 33,
   "id": "postal-finder",
   "metadata": {},
   "outputs": [
    {
     "data": {
      "text/plain": [
       "{'Enrollment No': '0000/00213/30165',\n",
       " 'Phone': '9867615015',\n",
       " 'Aadhar No': '2208 6237 2264',\n",
       " 'DOB': '25/01/2001',\n",
       " 'Gender': 'Male'}"
      ]
     },
     "execution_count": 33,
     "metadata": {},
     "output_type": "execute_result"
    }
   ],
   "source": [
    "imgfile='aadhar.jpg'\n",
    "text=ocr(imgfile)\n",
    "aadhar_details={'Enrollment No':getEno(text),\n",
    "'Phone':getPhone(text),\n",
    "'Aadhar No':getAno(text),\n",
    "'DOB':getDOB(text),\n",
    "'Gender':getGender(text)}\n",
    "\n",
    "aadhar_details"
   ]
  },
  {
   "cell_type": "code",
   "execution_count": null,
   "id": "worth-warner",
   "metadata": {},
   "outputs": [],
   "source": []
  }
 ],
 "metadata": {
  "kernelspec": {
   "display_name": "Python 3",
   "language": "python",
   "name": "python3"
  },
  "language_info": {
   "codemirror_mode": {
    "name": "ipython",
    "version": 3
   },
   "file_extension": ".py",
   "mimetype": "text/x-python",
   "name": "python",
   "nbconvert_exporter": "python",
   "pygments_lexer": "ipython3",
   "version": "3.9.2"
  }
 },
 "nbformat": 4,
 "nbformat_minor": 5
}
