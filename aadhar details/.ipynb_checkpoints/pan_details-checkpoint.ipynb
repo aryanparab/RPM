{
 "cells": [
  {
   "cell_type": "code",
   "execution_count": 62,
   "id": "handled-village",
   "metadata": {},
   "outputs": [],
   "source": [
    "import os,cv2,pytesseract,re\n",
    "from PIL import Image\n",
    "pytesseract.pytesseract.tesseract_cmd=r'C:\\Program Files\\Tesseract-OCR\\tesseract.exe'"
   ]
  },
  {
   "cell_type": "code",
   "execution_count": 63,
   "id": "lucky-conservation",
   "metadata": {},
   "outputs": [],
   "source": [
    "def get_text(imgfile):\n",
    "    img = cv2.imread(imgfile)\n",
    "    grayimg=cv2.cvtColor(img, cv2.COLOR_BGR2GRAY)\n",
    "    tempfile = \"{}.png\".format(os.getpid())\n",
    "    cv2.imwrite(tempfile, grayimg)\n",
    "    text = pytesseract.image_to_string(Image.open(tempfile))\n",
    "    os.remove(tempfile)\n",
    "    return text\n",
    "\n",
    "def getPAN(text):\n",
    "    return re.findall('[A-Z]{5}[0-9]{4}[A-Z]{1}',text)[0]\n",
    "\n",
    "def getDOB(text):\n",
    "    return re.findall('[0-9][0-9]\\/[0-9][0-9]\\/[0-9][0-9][0-9][0-9]',text)[0]"
   ]
  },
  {
   "cell_type": "code",
   "execution_count": 64,
   "id": "wrapped-scholar",
   "metadata": {},
   "outputs": [
    {
     "data": {
      "text/plain": [
       "{'PAN Number': 'EJAPS0276M', 'DOB': '31/10/1992'}"
      ]
     },
     "execution_count": 64,
     "metadata": {},
     "output_type": "execute_result"
    }
   ],
   "source": [
    "imgfile='pan.jpg'\n",
    "text=get_text(imgfile)\n",
    "pan_details={'PAN Number':getPAN(text),\n",
    "'DOB':getDOB(text)}\n",
    "\n",
    "pan_details"
   ]
  }
 ],
 "metadata": {
  "kernelspec": {
   "display_name": "Python 3",
   "language": "python",
   "name": "python3"
  },
  "language_info": {
   "codemirror_mode": {
    "name": "ipython",
    "version": 3
   },
   "file_extension": ".py",
   "mimetype": "text/x-python",
   "name": "python",
   "nbconvert_exporter": "python",
   "pygments_lexer": "ipython3",
   "version": "3.9.2"
  }
 },
 "nbformat": 4,
 "nbformat_minor": 5
}
