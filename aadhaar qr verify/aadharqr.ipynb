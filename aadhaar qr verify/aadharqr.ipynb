{
 "cells": [
  {
   "cell_type": "code",
   "execution_count": 1,
   "id": "packed-karma",
   "metadata": {},
   "outputs": [],
   "source": [
    "import os,cv2,pytesseract,re\n",
    "from PIL import Image\n",
    "from fuzzywuzzy import fuzz\n",
    "from pyzbar.pyzbar import decode\n",
    "pytesseract.pytesseract.tesseract_cmd=r'C:\\Program Files\\Tesseract-OCR\\tesseract.exe'"
   ]
  },
  {
   "cell_type": "code",
   "execution_count": 2,
   "id": "pacific-business",
   "metadata": {},
   "outputs": [],
   "source": [
    "def get_text(imgfile):\n",
    "    img = cv2.imread(imgfile)\n",
    "    grayimg=cv2.cvtColor(img, cv2.COLOR_BGR2GRAY)\n",
    "    tempfile = \"{}.png\".format(os.getpid())\n",
    "    cv2.imwrite(tempfile, grayimg)\n",
    "    text = pytesseract.image_to_string(Image.open(tempfile))\n",
    "    os.remove(tempfile)\n",
    "    return text\n",
    "\n",
    "def getEno(text):\n",
    "    x=re.findall('[0-9]{4}\\/[0-9]{5}\\/[0-9]{5}',text)\n",
    "    if len(x)>0:\n",
    "        return x[0]\n",
    "\n",
    "def getPhone(text):\n",
    "    x=re.findall(r'[0-9]{10}',text)\n",
    "    return x[len(x)-1]\n",
    "\n",
    "def getAno(text):\n",
    "    return re.findall('[0-9]{4}[ ][0-9]{4}[ ][0-9]{4}',text)[0].replace(\" \",\"\")\n",
    "\n",
    "def getDOB(text):\n",
    "    x=re.findall('[0-9]{2}\\/[0-9]{2}\\/[0-9]{4}',text)\n",
    "    return x[len(x)-1]\n",
    "\n",
    "def getGender(text):\n",
    "    if text.find('Male\\n')==-1 and text.find('MALE\\n')==-1 :\n",
    "        return 'Female'\n",
    "    else:\n",
    "        return 'Male'"
   ]
  },
  {
   "cell_type": "code",
   "execution_count": 3,
   "id": "minute-smile",
   "metadata": {},
   "outputs": [
    {
     "data": {
      "text/plain": [
       "{'Enrollment No': '0000/00213/30165',\n",
       " 'Phone': '9867615015',\n",
       " 'Aadhar No': '220862372264',\n",
       " 'DOB': '25/01/2001',\n",
       " 'Gender': 'Male'}"
      ]
     },
     "execution_count": 3,
     "metadata": {},
     "output_type": "execute_result"
    }
   ],
   "source": [
    "imgfile='aadhar.jpg'\n",
    "text=get_text(imgfile)\n",
    "aadhar_details={'Enrollment No':getEno(text),\n",
    "'Phone':getPhone(text),\n",
    "'Aadhar No':getAno(text),\n",
    "'DOB':getDOB(text),\n",
    "'Gender':getGender(text)}\n",
    "\n",
    "aadhar_details"
   ]
  },
  {
   "cell_type": "code",
   "execution_count": 4,
   "id": "electric-asset",
   "metadata": {},
   "outputs": [],
   "source": [
    "def getQRAno(text):\n",
    "    return re.findall('[0-9]{12}',text)[0]\n",
    "\n",
    "def getQRDOB(text):\n",
    "    x=re.findall('[0-9]{2}\\/[0-9]{2}\\/[0-9]{4}',text)\n",
    "    return x[len(x)-1]\n",
    "\n",
    "def getQRName(text):\n",
    "    x=re.findall('[0-9]{2}\\/[0-9]{2}\\/[0-9]{4}',text)\n",
    "    return x[len(x)-1]\n",
    "\n",
    "def getQRGender(text):\n",
    "    index=text.find('gender=\"')+len('gender=\"')\n",
    "    if text[index]=='M':\n",
    "        return 'Male'\n",
    "    else:\n",
    "        return 'Female'"
   ]
  },
  {
   "cell_type": "code",
   "execution_count": 5,
   "id": "surgical-anthony",
   "metadata": {},
   "outputs": [
    {
     "data": {
      "text/plain": [
       "{'Aadhar No': '220862372264', 'DOB': '25/01/2001', 'Gender': 'Male'}"
      ]
     },
     "execution_count": 5,
     "metadata": {},
     "output_type": "execute_result"
    }
   ],
   "source": [
    "qrtext=decode(Image.open('aadhar.jpg'))[0].data.decode('utf-8')\n",
    "\n",
    "qr_details={'Aadhar No':getQRAno(qrtext),\n",
    "'DOB':getQRDOB(qrtext),\n",
    "'Gender':getQRGender(qrtext)}\n",
    "\n",
    "qr_details"
   ]
  },
  {
   "cell_type": "code",
   "execution_count": 6,
   "id": "material-shuttle",
   "metadata": {},
   "outputs": [
    {
     "name": "stdout",
     "output_type": "stream",
     "text": [
      "Verified!!\n"
     ]
    }
   ],
   "source": [
    "def validate(aadhar_details,qr_details):\n",
    "    if fuzz.partial_ratio(aadhar_details['Aadhar No'],qr_details['Aadhar No'])<80:\n",
    "        print(\"INVALID AADHAR NO!!\")\n",
    "    elif fuzz.partial_ratio(aadhar_details['DOB'],qr_details['DOB'])<80:\n",
    "        print(\"INVALID DOB!!\")\n",
    "    elif fuzz.partial_ratio(aadhar_details['Gender'],qr_details['Gender'])<80:\n",
    "        print(\"INVALID GENDER!!\")\n",
    "    else:\n",
    "        print(\"Verified!!\")\n",
    "        \n",
    "validate(aadhar_details,qr_details)"
   ]
  },
  {
   "cell_type": "code",
   "execution_count": null,
   "id": "optional-language",
   "metadata": {},
   "outputs": [],
   "source": []
  }
 ],
 "metadata": {
  "kernelspec": {
   "display_name": "Python 3",
   "language": "python",
   "name": "python3"
  },
  "language_info": {
   "codemirror_mode": {
    "name": "ipython",
    "version": 3
   },
   "file_extension": ".py",
   "mimetype": "text/x-python",
   "name": "python",
   "nbconvert_exporter": "python",
   "pygments_lexer": "ipython3",
   "version": "3.9.2"
  }
 },
 "nbformat": 4,
 "nbformat_minor": 5
}
