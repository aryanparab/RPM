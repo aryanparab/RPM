{
 "cells": [
  {
   "cell_type": "code",
   "execution_count": 11,
   "metadata": {},
   "outputs": [],
   "source": [
    "from keras.layers import Input, Lambda, Dense, Flatten\n",
    "from keras.models import Model\n",
    "from keras.applications.vgg16 import VGG16\n",
    "from keras.applications.vgg16 import preprocess_input\n",
    "from keras.preprocessing import image\n",
    "from keras.preprocessing.image import ImageDataGenerator\n",
    "from keras.models import Sequential\n",
    "import numpy as np\n",
    "from glob import glob\n",
    "import matplotlib.pyplot as plt\n",
    "from pathlib import Path\n",
    "import os"
   ]
  },
  {
   "cell_type": "code",
   "execution_count": 1,
   "metadata": {},
   "outputs": [],
   "source": [
    "import tensorflow as tf\n",
    "import cv2\n",
    "import numpy as np\n",
    "from pathlib import Path\n",
    "import os \n"
   ]
  },
  {
   "cell_type": "code",
   "execution_count": 12,
   "metadata": {},
   "outputs": [
    {
     "name": "stderr",
     "output_type": "stream",
     "text": [
      "<>:7: SyntaxWarning: \"is\" with a literal. Did you mean \"==\"?\n",
      "<>:7: SyntaxWarning: \"is\" with a literal. Did you mean \"==\"?\n",
      "<ipython-input-12-8b9411a072b5>:7: SyntaxWarning: \"is\" with a literal. Did you mean \"==\"?\n",
      "  if faces is ():\n"
     ]
    }
   ],
   "source": [
    "def perform():\n",
    "    face_classifier = cv2.CascadeClassifier('haarcasacde_facefrontal_default.xml')\n",
    "    BASE_DIR = r'C:\\Users\\parab\\Desktop\\python\\flask\\env\\src\\RPM'\n",
    "    def face_extraction(img):\n",
    "        faces = face_classifier.detectMultiScale(img,1.3,5)\n",
    "        \n",
    "        if faces is ():\n",
    "            return None\n",
    "        \n",
    "        for (x,y,w,h) in faces :\n",
    "            x=x-10\n",
    "            y=y-10\n",
    "            cropped_face = img[y:y+h+50 , x:x+w+50]\n",
    "            \n",
    "        return cropped_face\n",
    "\n",
    "    cap = cv2.VideoCapture(0)\n",
    "    count =0 \n",
    "\n",
    "    while (cap.isOpened()):\n",
    "        success , img = cap.read()\n",
    "        if face_extraction(img) is not None :\n",
    "            count = count+1\n",
    "            face = cv2.resize(face_extraction(img),(224,224))\n",
    "            \n",
    "            file_name= str(count)+'.jpg'\n",
    "            if count < 40 :\n",
    "                file_name_path = os.path.join(BASE_DIR,'faces','train','person',file_name)\n",
    "            #'C:/Users/parab/Desktop/python/opencv/images/face_recog_train/aryan/'\n",
    "            else:\n",
    "                file_name_path = os.path.join(BASE_DIR,'faces','test','person',file_name)\n",
    "            cv2.imwrite(file_name_path,face)\n",
    "            \n",
    "            cv2.putText(face,str(count),(50,50),cv2.FONT_HERSHEY_SCRIPT_COMPLEX,1,(0,255,0),2)\n",
    "            cv2.imshow('Face Cropper',face)\n",
    "            \n",
    "        else:\n",
    "            print(\"Face not Found\")\n",
    "            pass\n",
    "        \n",
    "        \n",
    "        if cv2.waitKey(1) == 1000 or count == 60:\n",
    "            break\n",
    "\n",
    "    cap.release()\n",
    "    cv2.destroyAllWindows()\n",
    "\n",
    "\n"
   ]
  },
  {
   "cell_type": "code",
   "execution_count": 46,
   "metadata": {},
   "outputs": [],
   "source": [
    "\n",
    "\n",
    "def make_model():\n",
    "  IMAGE_SIZE = [224,224]\n",
    "\n",
    "  #train_path = 'images/mask_nomask/'\n",
    "  #valid_path = 'images/mask_nomask_test/'\n",
    "\n",
    "  vgg = VGG16(input_shape=IMAGE_SIZE + [3],weights ='imagenet',include_top = False)\n",
    "\n",
    "  for layer in vgg.layers:\n",
    "      layer.trainable = False\n",
    "          \n",
    "  folders = glob('faces/train/*')\n",
    "\n",
    "  x = Flatten()(vgg.output)\n",
    "\n",
    "  prediction = Dense(1,activation = 'sigmoid')(x)\n",
    "\n",
    "\n",
    "\n",
    "  model= Model(inputs=vgg.input , outputs = prediction)\n",
    "\n",
    "  model.summary()\n",
    "\n",
    "  model.compile(loss = 'binary_crossentropy',\n",
    "                optimizer = 'adam',\n",
    "                metrics = ['accuracy']\n",
    "                )\n",
    "\n",
    "  \n",
    "\n",
    "  train_datagen = ImageDataGenerator(rescale = 1./255,\n",
    "                                     shear_range = 0.2,\n",
    "                                     zoom_range = 0.2,\n",
    "                                     horizontal_flip = True)\n",
    "\n",
    "  test_datagen = ImageDataGenerator(rescale = 1./255)\n",
    "\n",
    "  training_set = train_datagen.flow_from_directory('faces/train',\n",
    "                                                   target_size = (224,224),\n",
    "                                                   batch_size = 32,\n",
    "                                                   class_mode = 'binary')\n",
    "\n",
    "  test_set = test_datagen.flow_from_directory('faces/test',\n",
    "                                              target_size = (224,224),\n",
    "                                              batch_size = 32,\n",
    "                                              class_mode = 'binary')\n",
    "\n",
    "  '''r=model.fit_generator(training_set,\n",
    "                           samples_per_epoch = 8000,\n",
    "                           nb_epoch = 5,\n",
    "                           validation_data = test_set,\n",
    "                           nb_val_samples = 2000)'''\n",
    "\n",
    "  # fit the model\n",
    "\n",
    "  r = model.fit(\n",
    "    training_set,\n",
    "    validation_data=test_set,\n",
    "    epochs=1,\n",
    "    steps_per_epoch=len(training_set),\n",
    "    validation_steps=len(test_set)\n",
    "  )\n",
    "  \n",
    "  \n",
    "  model.save('sface_recog.h5')\n",
    "\n",
    "\n",
    "\n",
    "\n"
   ]
  },
  {
   "cell_type": "code",
   "execution_count": 36,
   "metadata": {},
   "outputs": [
    {
     "name": "stdout",
     "output_type": "stream",
     "text": [
      "Face not Found\n",
      "Face not Found\n",
      "Model: \"functional_5\"\n",
      "_________________________________________________________________\n",
      "Layer (type)                 Output Shape              Param #   \n",
      "=================================================================\n",
      "input_3 (InputLayer)         [(None, 224, 224, 3)]     0         \n",
      "_________________________________________________________________\n",
      "block1_conv1 (Conv2D)        (None, 224, 224, 64)      1792      \n",
      "_________________________________________________________________\n",
      "block1_conv2 (Conv2D)        (None, 224, 224, 64)      36928     \n",
      "_________________________________________________________________\n",
      "block1_pool (MaxPooling2D)   (None, 112, 112, 64)      0         \n",
      "_________________________________________________________________\n",
      "block2_conv1 (Conv2D)        (None, 112, 112, 128)     73856     \n",
      "_________________________________________________________________\n",
      "block2_conv2 (Conv2D)        (None, 112, 112, 128)     147584    \n",
      "_________________________________________________________________\n",
      "block2_pool (MaxPooling2D)   (None, 56, 56, 128)       0         \n",
      "_________________________________________________________________\n",
      "block3_conv1 (Conv2D)        (None, 56, 56, 256)       295168    \n",
      "_________________________________________________________________\n",
      "block3_conv2 (Conv2D)        (None, 56, 56, 256)       590080    \n",
      "_________________________________________________________________\n",
      "block3_conv3 (Conv2D)        (None, 56, 56, 256)       590080    \n",
      "_________________________________________________________________\n",
      "block3_pool (MaxPooling2D)   (None, 28, 28, 256)       0         \n",
      "_________________________________________________________________\n",
      "block4_conv1 (Conv2D)        (None, 28, 28, 512)       1180160   \n",
      "_________________________________________________________________\n",
      "block4_conv2 (Conv2D)        (None, 28, 28, 512)       2359808   \n",
      "_________________________________________________________________\n",
      "block4_conv3 (Conv2D)        (None, 28, 28, 512)       2359808   \n",
      "_________________________________________________________________\n",
      "block4_pool (MaxPooling2D)   (None, 14, 14, 512)       0         \n",
      "_________________________________________________________________\n",
      "block5_conv1 (Conv2D)        (None, 14, 14, 512)       2359808   \n",
      "_________________________________________________________________\n",
      "block5_conv2 (Conv2D)        (None, 14, 14, 512)       2359808   \n",
      "_________________________________________________________________\n",
      "block5_conv3 (Conv2D)        (None, 14, 14, 512)       2359808   \n",
      "_________________________________________________________________\n",
      "block5_pool (MaxPooling2D)   (None, 7, 7, 512)         0         \n",
      "_________________________________________________________________\n",
      "flatten_2 (Flatten)          (None, 25088)             0         \n",
      "_________________________________________________________________\n",
      "dense_2 (Dense)              (None, 1)                 25089     \n",
      "=================================================================\n",
      "Total params: 14,739,777\n",
      "Trainable params: 25,089\n",
      "Non-trainable params: 14,714,688\n",
      "_________________________________________________________________\n",
      "Found 104 images belonging to 2 classes.\n",
      "Found 47 images belonging to 2 classes.\n",
      "Epoch 1/2\n",
      "4/4 [==============================] - 127s 32s/step - loss: 0.2908 - accuracy: 0.8462 - val_loss: 0.0446 - val_accuracy: 1.0000\n",
      "Epoch 2/2\n",
      "4/4 [==============================] - 117s 29s/step - loss: 0.0531 - accuracy: 0.9808 - val_loss: 0.0044 - val_accuracy: 1.0000\n"
     ]
    }
   ],
   "source": [
    "perform()\n",
    "make_model()"
   ]
  },
  {
   "cell_type": "code",
   "execution_count": 47,
   "metadata": {},
   "outputs": [
    {
     "name": "stdout",
     "output_type": "stream",
     "text": [
      "Model: \"functional_7\"\n",
      "_________________________________________________________________\n",
      "Layer (type)                 Output Shape              Param #   \n",
      "=================================================================\n",
      "input_4 (InputLayer)         [(None, 224, 224, 3)]     0         \n",
      "_________________________________________________________________\n",
      "block1_conv1 (Conv2D)        (None, 224, 224, 64)      1792      \n",
      "_________________________________________________________________\n",
      "block1_conv2 (Conv2D)        (None, 224, 224, 64)      36928     \n",
      "_________________________________________________________________\n",
      "block1_pool (MaxPooling2D)   (None, 112, 112, 64)      0         \n",
      "_________________________________________________________________\n",
      "block2_conv1 (Conv2D)        (None, 112, 112, 128)     73856     \n",
      "_________________________________________________________________\n",
      "block2_conv2 (Conv2D)        (None, 112, 112, 128)     147584    \n",
      "_________________________________________________________________\n",
      "block2_pool (MaxPooling2D)   (None, 56, 56, 128)       0         \n",
      "_________________________________________________________________\n",
      "block3_conv1 (Conv2D)        (None, 56, 56, 256)       295168    \n",
      "_________________________________________________________________\n",
      "block3_conv2 (Conv2D)        (None, 56, 56, 256)       590080    \n",
      "_________________________________________________________________\n",
      "block3_conv3 (Conv2D)        (None, 56, 56, 256)       590080    \n",
      "_________________________________________________________________\n",
      "block3_pool (MaxPooling2D)   (None, 28, 28, 256)       0         \n",
      "_________________________________________________________________\n",
      "block4_conv1 (Conv2D)        (None, 28, 28, 512)       1180160   \n",
      "_________________________________________________________________\n",
      "block4_conv2 (Conv2D)        (None, 28, 28, 512)       2359808   \n",
      "_________________________________________________________________\n",
      "block4_conv3 (Conv2D)        (None, 28, 28, 512)       2359808   \n",
      "_________________________________________________________________\n",
      "block4_pool (MaxPooling2D)   (None, 14, 14, 512)       0         \n",
      "_________________________________________________________________\n",
      "block5_conv1 (Conv2D)        (None, 14, 14, 512)       2359808   \n",
      "_________________________________________________________________\n",
      "block5_conv2 (Conv2D)        (None, 14, 14, 512)       2359808   \n",
      "_________________________________________________________________\n",
      "block5_conv3 (Conv2D)        (None, 14, 14, 512)       2359808   \n",
      "_________________________________________________________________\n",
      "block5_pool (MaxPooling2D)   (None, 7, 7, 512)         0         \n",
      "_________________________________________________________________\n",
      "flatten_3 (Flatten)          (None, 25088)             0         \n",
      "_________________________________________________________________\n",
      "dense_3 (Dense)              (None, 1)                 25089     \n",
      "=================================================================\n",
      "Total params: 14,739,777\n",
      "Trainable params: 25,089\n",
      "Non-trainable params: 14,714,688\n",
      "_________________________________________________________________\n",
      "Found 104 images belonging to 2 classes.\n",
      "Found 47 images belonging to 2 classes.\n",
      "4/4 [==============================] - 141s 35s/step - loss: 0.3028 - accuracy: 0.8654 - val_loss: 0.0512 - val_accuracy: 1.0000\n"
     ]
    }
   ],
   "source": [
    "make_model()"
   ]
  },
  {
   "cell_type": "code",
   "execution_count": 2,
   "metadata": {},
   "outputs": [
    {
     "name": "stderr",
     "output_type": "stream",
     "text": [
      "<>:5: SyntaxWarning: \"is\" with a literal. Did you mean \"==\"?\n",
      "<>:5: SyntaxWarning: \"is\" with a literal. Did you mean \"==\"?\n",
      "<ipython-input-2-d458a424248f>:5: SyntaxWarning: \"is\" with a literal. Did you mean \"==\"?\n",
      "  if faces is ():\n"
     ]
    }
   ],
   "source": [
    "\n",
    "face_classifier = cv2.CascadeClassifier('haarcasacde_facefrontal_default.xml')\n",
    "def face_extraction(img):\n",
    "    faces = face_classifier.detectMultiScale(img,1.3,5)\n",
    "        \n",
    "    if faces is ():\n",
    "        print(\"no face\")\n",
    "        return None\n",
    "        \n",
    "    for (x,y,w,h) in faces :\n",
    "        x=x-10\n",
    "        y=y-10\n",
    "        cropped_face = img[y:y+h+50 , x:x+w+50]\n",
    "            \n",
    "    return cropped_face"
   ]
  },
  {
   "cell_type": "code",
   "execution_count": 48,
   "metadata": {},
   "outputs": [],
   "source": [
    "model = load_model('sface_recog.h5')\n"
   ]
  },
  {
   "cell_type": "code",
   "execution_count": 10,
   "metadata": {},
   "outputs": [
    {
     "name": "stdout",
     "output_type": "stream",
     "text": [
      "downloa1d (8).jpg\n",
      "download (1).jpg\n",
      "download (10).jpg\n",
      "download (11).jpg\n",
      "download (12).jpg\n",
      "download (13).jpg\n",
      "download (14).jpg\n",
      "download (15).jpg\n",
      "download (2).jpg\n",
      "download (3).jpg\n",
      "download (4).jpg\n",
      "download (5).jpg\n",
      "download (6).jpg\n",
      "download (7).jpg\n",
      "download (8).jpg\n",
      "download (9).jpg\n",
      "download.jpg\n",
      "images (1).jpg\n",
      "images (10).jpg\n",
      "images (11).jpg\n",
      "images (12).jpg\n",
      "images (13).jpg\n",
      "images (2).jpg\n",
      "images (3).jpg\n",
      "images (4).jpg\n",
      "images (5).jpg\n",
      "no face\n",
      "images (6).jpg\n",
      "images (7).jpg\n",
      "images (8).jpg\n",
      "images (9).jpg\n",
      "images.jpg\n",
      "real_00224.jpg\n"
     ]
    }
   ],
   "source": [
    "for i in os.listdir('faces/test/others'):\n",
    "    print(i)\n",
    "    img_name = i \n",
    "    img = cv2.imread('faces/test/others/'+i)\n",
    "    img = face_extraction(img)\n",
    "    try:\n",
    "        cv2.imwrite('faces/test/others/' +img_name,img)\n",
    "    except:\n",
    "        pass"
   ]
  },
  {
   "cell_type": "code",
   "execution_count": 59,
   "metadata": {},
   "outputs": [
    {
     "name": "stdout",
     "output_type": "stream",
     "text": [
      "no face\n"
     ]
    },
    {
     "ename": "error",
     "evalue": "OpenCV(4.4.0) C:\\Users\\appveyor\\AppData\\Local\\Temp\\1\\pip-req-build-h4wtvo23\\opencv\\modules\\imgcodecs\\src\\loadsave.cpp:738: error: (-215:Assertion failed) !_img.empty() in function 'cv::imwrite'\n",
     "output_type": "error",
     "traceback": [
      "\u001b[1;31m---------------------------------------------------------------------------\u001b[0m",
      "\u001b[1;31merror\u001b[0m                                     Traceback (most recent call last)",
      "\u001b[1;32m<ipython-input-59-7290d4a25f76>\u001b[0m in \u001b[0;36m<module>\u001b[1;34m\u001b[0m\n\u001b[0;32m      2\u001b[0m \u001b[0mimg\u001b[0m \u001b[1;33m=\u001b[0m \u001b[0mface_extraction\u001b[0m\u001b[1;33m(\u001b[0m\u001b[0mimg\u001b[0m\u001b[1;33m)\u001b[0m\u001b[1;33m\u001b[0m\u001b[1;33m\u001b[0m\u001b[0m\n\u001b[0;32m      3\u001b[0m \u001b[1;33m\u001b[0m\u001b[0m\n\u001b[1;32m----> 4\u001b[1;33m \u001b[0mcv2\u001b[0m\u001b[1;33m.\u001b[0m\u001b[0mimwrite\u001b[0m\u001b[1;33m(\u001b[0m\u001b[1;34m'trial_files_which_might_be_required/adhar.jpg'\u001b[0m\u001b[1;33m,\u001b[0m\u001b[0mimg\u001b[0m\u001b[1;33m)\u001b[0m\u001b[1;33m\u001b[0m\u001b[1;33m\u001b[0m\u001b[0m\n\u001b[0m",
      "\u001b[1;31merror\u001b[0m: OpenCV(4.4.0) C:\\Users\\appveyor\\AppData\\Local\\Temp\\1\\pip-req-build-h4wtvo23\\opencv\\modules\\imgcodecs\\src\\loadsave.cpp:738: error: (-215:Assertion failed) !_img.empty() in function 'cv::imwrite'\n"
     ]
    }
   ],
   "source": [
    "img = cv2.imread('trial_files_which_might_be_required/adhar.jpg')\n",
    "img = face_extraction(img)\n",
    "\n",
    "cv2.imwrite('trial_files_which_might_be_required/adhar.jpg',img)"
   ]
  },
  {
   "cell_type": "code",
   "execution_count": 63,
   "metadata": {},
   "outputs": [
    {
     "name": "stdout",
     "output_type": "stream",
     "text": [
      "(1, 224, 224, 3)\n",
      "0.30636543\n"
     ]
    }
   ],
   "source": [
    "from tensorflow.keras.models import load_model\n",
    "\n",
    "\n",
    "\n",
    "img = image.load_img('trial_files_which_might_be_required/aadhar.jpg', target_size=(224, 224))\n",
    "#img = image.load_img('images/aadhar_face_extract.jpg', target_size=(224, 224))\n",
    "\n",
    "\n",
    "x = image.img_to_array(img)\n",
    "x = np.true_divide(x, 255)\n",
    "    ## Scaling\n",
    "#x=x/255\n",
    "x = np.expand_dims(x, axis=0)\n",
    "print(x.shape)\n",
    "pred = model.predict(x)[0][0]\n",
    "print(pred)"
   ]
  },
  {
   "cell_type": "code",
   "execution_count": null,
   "metadata": {},
   "outputs": [],
   "source": []
  },
  {
   "cell_type": "code",
   "execution_count": null,
   "metadata": {},
   "outputs": [],
   "source": []
  }
 ],
 "metadata": {
  "kernelspec": {
   "display_name": "Python 3",
   "language": "python",
   "name": "python3"
  },
  "language_info": {
   "codemirror_mode": {
    "name": "ipython",
    "version": 3
   },
   "file_extension": ".py",
   "mimetype": "text/x-python",
   "name": "python",
   "nbconvert_exporter": "python",
   "pygments_lexer": "ipython3",
   "version": "3.8.3"
  }
 },
 "nbformat": 4,
 "nbformat_minor": 4
}
