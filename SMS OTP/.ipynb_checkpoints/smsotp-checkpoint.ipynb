{
 "cells": [
  {
   "cell_type": "code",
   "execution_count": 1,
   "metadata": {},
   "outputs": [],
   "source": [
    "import requests"
   ]
  },
  {
   "cell_type": "code",
   "execution_count": 5,
   "metadata": {},
   "outputs": [],
   "source": [
    "url = \"https://www.fast2sms.com/dev/bulk\"\n",
    "payload = \"sender_id=FSTSMS&message=4598&language=english&route=p&numbers=9833761116\""
   ]
  },
  {
   "cell_type": "code",
   "execution_count": 6,
   "metadata": {},
   "outputs": [],
   "source": [
    "headers = {\n",
    "'authorization': \"ODzgwbE7eBcMSyfVC5oPdApX6ZaWUsYKLqnh0xTjmQJ9HNl23vDtwJRkj5sam698SpEcOCoHKITxhNMn\", #AUTH KEY FROM FAST2SMS\n",
    "'Content-Type': \"application/x-www-form-urlencoded\",\n",
    "'Cache-Control': \"no-cache\",\n",
    "}"
   ]
  },
  {
   "cell_type": "code",
   "execution_count": 7,
   "metadata": {},
   "outputs": [
    {
     "name": "stdout",
     "output_type": "stream",
     "text": [
      "{\"return\":true,\"request_id\":\"6879r3j4kdt5bnf\",\"message\":[\"SMS sent successfully.\"]}\n"
     ]
    }
   ],
   "source": [
    "response = requests.request(\"POST\", url, data=payload, headers=headers)\n",
    "print(response.text)"
   ]
  },
  {
   "cell_type": "code",
   "execution_count": null,
   "metadata": {},
   "outputs": [],
   "source": []
  }
 ],
 "metadata": {
  "kernelspec": {
   "display_name": "Python 3",
   "language": "python",
   "name": "python3"
  },
  "language_info": {
   "codemirror_mode": {
    "name": "ipython",
    "version": 3
   },
   "file_extension": ".py",
   "mimetype": "text/x-python",
   "name": "python",
   "nbconvert_exporter": "python",
   "pygments_lexer": "ipython3",
   "version": "3.8.3"
  }
 },
 "nbformat": 4,
 "nbformat_minor": 5
}
