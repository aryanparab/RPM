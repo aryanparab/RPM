{
 "cells": [
  {
   "cell_type": "code",
   "execution_count": 6,
   "id": "convinced-mediterranean",
   "metadata": {},
   "outputs": [],
   "source": [
    "import requests"
   ]
  },
  {
   "cell_type": "code",
   "execution_count": 3,
   "id": "promotional-journalist",
   "metadata": {},
   "outputs": [],
   "source": [
    "url = \"https://www.fast2sms.com/dev/bulk\"\n",
    "payload = \"sender_id=FSTSMS&message=test&language=english&route=p&numbers=9769915018\""
   ]
  },
  {
   "cell_type": "code",
   "execution_count": 4,
   "id": "together-beads",
   "metadata": {},
   "outputs": [],
   "source": [
    "headers = {\n",
    "'authorization': \"ODzgwbE7eBcMSyfVC5oPdApX6ZaWUsYKLqnh0xTjmQJ9HNl23vDtwJRkj5sam698SpEcOCoHKITxhNMn\", #AUTH KEY FROM FAST2SMS\n",
    "'Content-Type': \"application/x-www-form-urlencoded\",\n",
    "'Cache-Control': \"no-cache\",\n",
    "}"
   ]
  },
  {
   "cell_type": "code",
   "execution_count": 7,
   "id": "employed-springer",
   "metadata": {},
   "outputs": [
    {
     "name": "stdout",
     "output_type": "stream",
     "text": [
      "{\"return\":true,\"request_id\":\"bv3xrhueg5a2tdm\",\"message\":[\"SMS sent successfully.\"]}\n"
     ]
    }
   ],
   "source": [
    "response = requests.request(\"POST\", url, data=payload, headers=headers)\n",
    "print(response.text)"
   ]
  }
 ],
 "metadata": {
  "kernelspec": {
   "display_name": "Python 3",
   "language": "python",
   "name": "python3"
  },
  "language_info": {
   "codemirror_mode": {
    "name": "ipython",
    "version": 3
   },
   "file_extension": ".py",
   "mimetype": "text/x-python",
   "name": "python",
   "nbconvert_exporter": "python",
   "pygments_lexer": "ipython3",
   "version": "3.9.2"
  }
 },
 "nbformat": 4,
 "nbformat_minor": 5
}
