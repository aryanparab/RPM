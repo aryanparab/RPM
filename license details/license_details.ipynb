{
 "cells": [
  {
   "cell_type": "code",
   "execution_count": 4,
   "id": "familiar-potter",
   "metadata": {},
   "outputs": [],
   "source": [
    "import os,cv2,pytesseract,re\n",
    "from PIL import Image\n",
    "pytesseract.pytesseract.tesseract_cmd=r'C:\\Program Files\\Tesseract-OCR\\tesseract.exe'"
   ]
  },
  {
   "cell_type": "code",
   "execution_count": 5,
   "id": "above-update",
   "metadata": {},
   "outputs": [],
   "source": [
    "def get_text(imgfile):\n",
    "    img = cv2.imread(imgfile)\n",
    "    grayimg=cv2.cvtColor(img, cv2.COLOR_BGR2GRAY)\n",
    "    tempfile = \"{}.png\".format(os.getpid())\n",
    "    cv2.imwrite(tempfile, grayimg)\n",
    "    text = pytesseract.image_to_string(Image.open(tempfile))\n",
    "    os.remove(tempfile)\n",
    "    return text\n",
    "\n",
    "def getDLNODOI(text):\n",
    "    start=end=text.find('DL No ')+len('DL No ')\n",
    "    while (text[end]!=' '):\n",
    "        end+=1\n",
    "    end+=1\n",
    "    while (text[end]!=' '):\n",
    "        end+=1\n",
    "    DLNO=text[start:end]\n",
    "    end+=1\n",
    "    while (text[end]!=' '):\n",
    "        end+=1\n",
    "    end+=1\n",
    "    start=end\n",
    "    while (text[end]!='\\n'):\n",
    "        end+=1\n",
    "    DOI=text[start:end]\n",
    "    return DLNO,DOI\n",
    "    \n",
    "\n",
    "def getName(text):\n",
    "    start=end=text.find('Name ')+ len('Name ')+1\n",
    "    while (text[end]!='\\n'):\n",
    "        end+=1\n",
    "    return text[start:end]\n",
    "\n",
    "def getExpiry(text):\n",
    "    start=end=text.find('Till : ')+len('Till : ')\n",
    "    while (text[end]!=' '):\n",
    "        end+=1\n",
    "    return text[start:end]\n",
    "\n",
    "def getDOB(text):\n",
    "    start=end=text.find('DOB : ')+len('DOB : ')\n",
    "    while (text[end]!=' '):\n",
    "        end+=1\n",
    "    return text[start:end]\n",
    "\n",
    "def getAddress(text):\n",
    "    start=text.find('Add ')+len('Add ')+1\n",
    "    end=text.find('PIN')\n",
    "    add=''\n",
    "    while start!=end:\n",
    "        if text[start]=='\\n':\n",
    "            start+=1\n",
    "            continue\n",
    "        add+=text[start]\n",
    "        start+=1\n",
    "    return add"
   ]
  },
  {
   "cell_type": "code",
   "execution_count": 6,
   "id": "preliminary-thousand",
   "metadata": {},
   "outputs": [
    {
     "data": {
      "text/plain": [
       "{'DL No': '-MH03 20080006266',\n",
       " 'DOI': ': 18-01-2008',\n",
       " 'Address': '109/3151, KANNAMWAR NAGAR NO-2VIKHROLI (E) MUMBAI',\n",
       " 'DOB': '06-09-1984',\n",
       " 'Name': 'TRUPTI KAMBLE',\n",
       " 'Expiry Date': '17-01-2028'}"
      ]
     },
     "execution_count": 6,
     "metadata": {},
     "output_type": "execute_result"
    }
   ],
   "source": [
    "imgfile='license.jpg'\n",
    "text=get_text(imgfile)\n",
    "dl,doi=getDLNODOI(text)\n",
    "license_details={'DL No':dl,\n",
    "'DOI':doi,\n",
    "'Address':getAddress(text),\n",
    "'DOB':getDOB(text),\n",
    "'Name':getName(text),\n",
    "'Expiry Date':getExpiry(text)}\n",
    "\n",
    "license_details"
   ]
  }
 ],
 "metadata": {
  "kernelspec": {
   "display_name": "Python 3",
   "language": "python",
   "name": "python3"
  },
  "language_info": {
   "codemirror_mode": {
    "name": "ipython",
    "version": 3
   },
   "file_extension": ".py",
   "mimetype": "text/x-python",
   "name": "python",
   "nbconvert_exporter": "python",
   "pygments_lexer": "ipython3",
   "version": "3.9.2"
  }
 },
 "nbformat": 4,
 "nbformat_minor": 5
}
